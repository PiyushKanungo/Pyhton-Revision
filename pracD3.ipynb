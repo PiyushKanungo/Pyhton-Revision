{
 "cells": [
  {
   "cell_type": "code",
   "execution_count": 4,
   "metadata": {},
   "outputs": [
    {
     "name": "stdout",
     "output_type": "stream",
     "text": [
      "[19, 27, 29, 38, 45, 50, 79]\n"
     ]
    }
   ],
   "source": [
    "##SelectionSort\n",
    "##Function Definition\n",
    "\n",
    "def SelectionSort(arr):\n",
    "    n = len(arr)\n",
    "    for i in range(n):\n",
    "         ## to store the index of the minimum element \n",
    "        min_idx = i\n",
    "        for j in range(i+1,n):\n",
    "            if arr[j]<arr[min_idx]:                      ##O(N2)\n",
    "                min_idx = j\n",
    "\n",
    "        ## swap of the elemnt at i and min_idx\n",
    "        arr[i], arr[min_idx] = arr[min_idx], arr[i]\n",
    "\n",
    "    return arr\n",
    "            \n",
    "\n",
    "\n",
    "\n",
    "\n",
    "\n",
    "## Driver Code\n",
    "\n",
    "arr =[50,38,45,79,19,27,29]\n",
    "result= SelectionSort(arr)\n",
    "\n",
    "print(result)\n",
    "\n",
    "\n",
    "\n",
    "\n",
    "\n"
   ]
  },
  {
   "cell_type": "code",
   "execution_count": 5,
   "metadata": {},
   "outputs": [
    {
     "name": "stdout",
     "output_type": "stream",
     "text": [
      "[1, 3, 4, 5, 9]\n"
     ]
    }
   ],
   "source": [
    "## Insertion Sort\n",
    "\n",
    "##Function Definition\n",
    "def InsertionSort(arr):\n",
    "    for i in range(1,len(arr)):\n",
    "        key = arr[i]\n",
    "        j = i -1\n",
    "        while j >= 0 and key < arr[j]:\n",
    "            arr[j+1] = arr[j]\n",
    "            j = j-1\n",
    "        arr[j+1] = key\n",
    "    return arr\n",
    "\n",
    "\n",
    "\n",
    "## Driver Code\n",
    "\n",
    "arr = [9,5,1,4,3]\n",
    "result= InsertionSort(arr)\n",
    "print(result)\n",
    "\n",
    "\n"
   ]
  },
  {
   "cell_type": "code",
   "execution_count": 8,
   "metadata": {},
   "outputs": [],
   "source": [
    "arr1= [1,2,3,4,5,6,7]"
   ]
  },
  {
   "cell_type": "code",
   "execution_count": 9,
   "metadata": {},
   "outputs": [],
   "source": [
    "arr1[1] = 2"
   ]
  },
  {
   "cell_type": "code",
   "execution_count": 10,
   "metadata": {},
   "outputs": [
    {
     "name": "stdout",
     "output_type": "stream",
     "text": [
      "[1, 2, 3, 4, 5, 6, 7]\n"
     ]
    }
   ],
   "source": [
    "print(arr1)"
   ]
  },
  {
   "cell_type": "code",
   "execution_count": 14,
   "metadata": {},
   "outputs": [
    {
     "name": "stdout",
     "output_type": "stream",
     "text": [
      "19\n"
     ]
    }
   ],
   "source": [
    "## Q1 Best time to buy and sell stocks\n",
    "\n",
    "##Function Defination\n",
    "def BSS(prices):\n",
    "    min_price= float('inf')\n",
    "    max_profit = 0\n",
    "\n",
    "    for i in range(len(prices)):\n",
    "        if prices[i] < min_price:                            ## O(N)\n",
    "            min_price = prices[i] \n",
    "        elif prices[i] - min_price > max_profit:\n",
    "            max_profit = prices[i] - min_price\n",
    "    return max_profit\n",
    "\n",
    "\n",
    "\n",
    "\n",
    "##DriveCode\n",
    "prices=[7,1,5,3,6,4,15,20]\n",
    "result = BSS(prices)\n",
    "print(result)\n",
    "\n",
    "\n",
    "\n"
   ]
  },
  {
   "cell_type": "code",
   "execution_count": 21,
   "metadata": {},
   "outputs": [
    {
     "name": "stdout",
     "output_type": "stream",
     "text": [
      "Yes! the given points are co-linear\n",
      "Yes! the given points are co-linear\n"
     ]
    }
   ],
   "source": [
    "## Collinear points\n",
    "\n",
    "##Function Definition\n",
    "## Approach 1  Using slope concept\n",
    "def iscollinearPoints(x1,x2,x3,y1,y2,y3):\n",
    "    if ((y2-y1)*(x3-x2) == (x2-x1)*(y3-y2)):\n",
    "        print(\"Yes! the given points are co-linear\")        ## O(1)\n",
    "    else:             \n",
    "        print(\"Given points are non-collinear\")\n",
    "\n",
    "## Aproach2 Using the area of triangle concept\n",
    "\n",
    "def iscollinearPoints2(x1,x2,x3,y1,y2,y3):\n",
    "    if 1/2*((x1*(y2-y3)+x2*(y3-y1)+x3*(y1-y2))) == 0:\n",
    "        print(\"Yes! the given points are co-linear\")          ## O(1)\n",
    "    else:\n",
    "        print(\"Given points are non-collinear\")\n",
    "##Driver Code\n",
    "\n",
    "x1,x2,x3,y1,y2,y3 = 1,1,1,6,0,9\n",
    "iscollinearPoints(x1,x2,x3,y1,y2,y3)\n",
    "iscollinearPoints2(x1,x2,x3,y1,y2,y3)\n",
    "\n",
    "\n"
   ]
  },
  {
   "cell_type": "code",
   "execution_count": null,
   "metadata": {},
   "outputs": [],
   "source": [
    "## Majority Element "
   ]
  }
 ],
 "metadata": {
  "kernelspec": {
   "display_name": "Python 3",
   "language": "python",
   "name": "python3"
  },
  "language_info": {
   "codemirror_mode": {
    "name": "ipython",
    "version": 3
   },
   "file_extension": ".py",
   "mimetype": "text/x-python",
   "name": "python",
   "nbconvert_exporter": "python",
   "pygments_lexer": "ipython3",
   "version": "3.11.3"
  }
 },
 "nbformat": 4,
 "nbformat_minor": 2
}
