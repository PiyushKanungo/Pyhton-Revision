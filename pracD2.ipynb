{
 "cells": [
  {
   "cell_type": "code",
   "execution_count": 5,
   "metadata": {},
   "outputs": [
    {
     "name": "stdout",
     "output_type": "stream",
     "text": [
      "2\n"
     ]
    }
   ],
   "source": [
    "## Binary Search\n",
    "\n",
    "## Funtion Defination\n",
    "def binarySearch(arr,i,j,x):\n",
    "    while i <= j:\n",
    "        mid = i +(j-i)//2\n",
    "        if arr[mid]==x:\n",
    "            return mid\n",
    "        elif arr[mid] < x:\n",
    "            return binarySearch(arr,mid+1,j,x)\n",
    "        else:\n",
    "            return binarySearch(arr,i,mid-1,x)\n",
    "## Searching element is not present in an array\n",
    "    return -1            \n",
    "\n",
    "\n",
    "##Driver code\n",
    "arr = [2,5,10,14,18,22,27,35,40,59] ## Sorted Array\n",
    "x = 10\n",
    "i=0\n",
    "j= len(arr)-1\n",
    "\n",
    "#Funtion call\n",
    "\n",
    "result = binarySearch(arr,i,j,x)\n",
    "print(result)\n"
   ]
  },
  {
   "cell_type": "code",
   "execution_count": 14,
   "metadata": {},
   "outputs": [
    {
     "name": "stdout",
     "output_type": "stream",
     "text": [
      "10\n",
      "True\n"
     ]
    }
   ],
   "source": [
    "#Function Definition\n",
    "def bs2d(matrix,target):\n",
    "    ## number of rows\n",
    "    m = len(matrix)\n",
    "    if m == 0:\n",
    "        return False\n",
    "    ## number of columns\n",
    "    n = len(matrix[0])\n",
    "    left,right= 0,m*n-1\n",
    "    while left<=right:\n",
    "        mid = left + (right -left)//2                         ## Search in 2D matrix \n",
    "        mid_element= matrix[mid//n][mid%n]                    ## O(log mn)   *mxn matrix*\n",
    "        if target == mid_element:\n",
    "            print(mid)\n",
    "            return True\n",
    "        elif target < mid_element:\n",
    "            right = mid -1\n",
    "        else:\n",
    "            left = mid +1\n",
    "    return False\n",
    "        \n",
    "## Driver Code\n",
    "\n",
    "matrix = [[1,3,5,7],\n",
    "          [10,11,16,20],\n",
    "          [23,30,34,60]\n",
    "          ]\n",
    "target = 34\n",
    "\n",
    "## Function call\n",
    "\n",
    "result = bs2d(matrix,target)\n",
    "print(result)"
   ]
  },
  {
   "cell_type": "code",
   "execution_count": 23,
   "metadata": {},
   "outputs": [
    {
     "name": "stdout",
     "output_type": "stream",
     "text": [
      "False\n"
     ]
    }
   ],
   "source": [
    "## Ternary search\n",
    "\n",
    "\n",
    "## Funtion definition\n",
    "\n",
    "def ts2d(l,r,x,arr):\n",
    "     while l<=r:\n",
    "          mid1 = l + (r-l)//3\n",
    "          mid2 = r - (r-l)//3\n",
    "\n",
    "          if x == arr[mid1]:\n",
    "               return mid1\n",
    "          elif x== arr[mid2]:\n",
    "               return mid2\n",
    "          elif x < arr[mid1]:\n",
    "               return ts2d(l,mid1-1,x,arr)  ## First half\n",
    "          elif x > arr[mid2]:               ## Third half                O(log3N)\n",
    "               l = mid2 + 1\n",
    "          else:                             ##Second half\n",
    "               l = mid1 + 1 \n",
    "               r = mid2 - 1\n",
    "\n",
    "     return False\n",
    "\n",
    "     \n",
    "    \n",
    "\n",
    "arr = [1,2,3,4,5,6,7,8,9,10]\n",
    "l = 0\n",
    "r= len(arr) - 1\n",
    "x= 20\n",
    "## Function call\n",
    "\n",
    "result = ts2d(l,r,x,arr)\n",
    "print(result)"
   ]
  },
  {
   "cell_type": "code",
   "execution_count": 26,
   "metadata": {},
   "outputs": [
    {
     "name": "stdout",
     "output_type": "stream",
     "text": [
      "[5, 15, 20, 30, 50, 70, 90]\n"
     ]
    }
   ],
   "source": [
    "# Bubble Sort\n",
    "# Function Definition\n",
    "\n",
    "def bubbleSort(arr):\n",
    "    n = len(arr)\n",
    "    for i in range(n):\n",
    "        for j in range (0, n-i-1):\n",
    "            if arr[j] > arr[j+1]:\n",
    "                ##swap the elements\n",
    "                arr[j],arr[j+1] = arr[j+1],arr[j]             ##O(N2)\n",
    "    return arr\n",
    "\n",
    "\n",
    "\n",
    "\n",
    "## Driver code\n",
    "arr = [70,20,50,30,90,5,15]\n",
    "result = bubbleSort(arr)\n",
    "print(result)"
   ]
  }
 ],
 "metadata": {
  "kernelspec": {
   "display_name": "Python 3",
   "language": "python",
   "name": "python3"
  },
  "language_info": {
   "codemirror_mode": {
    "name": "ipython",
    "version": 3
   },
   "file_extension": ".py",
   "mimetype": "text/x-python",
   "name": "python",
   "nbconvert_exporter": "python",
   "pygments_lexer": "ipython3",
   "version": "3.11.3"
  }
 },
 "nbformat": 4,
 "nbformat_minor": 2
}
